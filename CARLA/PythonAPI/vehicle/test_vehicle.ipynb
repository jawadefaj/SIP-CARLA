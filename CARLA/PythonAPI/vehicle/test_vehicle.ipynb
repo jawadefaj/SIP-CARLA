{
 "cells": [
  {
   "cell_type": "code",
   "execution_count": 1,
   "id": "deb4585b",
   "metadata": {},
   "outputs": [
    {
     "name": "stdout",
     "output_type": "stream",
     "text": [
      "Carla import successful\n"
     ]
    }
   ],
   "source": [
    "from helper import *\n",
    "from vehicle import *\n",
    "import random"
   ]
  },
  {
   "cell_type": "code",
   "execution_count": 2,
   "id": "ed10598d",
   "metadata": {},
   "outputs": [
    {
     "name": "stdout",
     "output_type": "stream",
     "text": [
      "CARLA 0.9.11 connected at localhost:2000.\n",
      "<carla.libcarla.Client object at 0x0000020C555695B0>\n"
     ]
    }
   ],
   "source": [
    "client = connectToClient()\n",
    "world = client.get_world()"
   ]
  },
  {
   "cell_type": "code",
   "execution_count": 3,
   "id": "17596ff7",
   "metadata": {},
   "outputs": [],
   "source": [
    "blueprint_library = world.get_blueprint_library()"
   ]
  },
  {
   "cell_type": "code",
   "execution_count": 4,
   "id": "67b681b2",
   "metadata": {},
   "outputs": [],
   "source": [
    "vehicle_bp = random.choice(blueprint_library.filter('vehicle.bmw.*'))"
   ]
  },
  {
   "cell_type": "code",
   "execution_count": 5,
   "id": "dbaa7855",
   "metadata": {},
   "outputs": [],
   "source": [
    "bb = draw_bounding_box(world)\n",
    "_map = world.get_map()\n",
    "spawn_points = _map.get_spawn_points()\n",
    "filtered_spawn_points = filter_spawn_points(bb, spawn_points)\n",
    "sp = random.choice(filtered_spawn_points)"
   ]
  },
  {
   "cell_type": "code",
   "execution_count": null,
   "id": "6bb30b0f",
   "metadata": {},
   "outputs": [],
   "source": [
    "# vehicle_bp.get_attribute('color').recommended_values"
   ]
  },
  {
   "cell_type": "code",
   "execution_count": null,
   "id": "db1b8e6c",
   "metadata": {},
   "outputs": [],
   "source": [
    "# v = vehicle(world, 'bmw', '0,0,0', None)"
   ]
  },
  {
   "cell_type": "code",
   "execution_count": 6,
   "id": "6f3a4262",
   "metadata": {},
   "outputs": [
    {
     "name": "stdout",
     "output_type": "stream",
     "text": [
      "spawned a vehicle\n"
     ]
    },
    {
     "ename": "TypeError",
     "evalue": "__init__() should return None, not 'Vehicle'",
     "output_type": "error",
     "traceback": [
      "\u001b[1;31m---------------------------------------------------------------------------\u001b[0m",
      "\u001b[1;31mTypeError\u001b[0m                                 Traceback (most recent call last)",
      "\u001b[1;32m<ipython-input-6-49ae1e4ce3fe>\u001b[0m in \u001b[0;36m<module>\u001b[1;34m\u001b[0m\n\u001b[1;32m----> 1\u001b[1;33m \u001b[0mvehicle\u001b[0m \u001b[1;33m=\u001b[0m \u001b[0mspawnVehicleWithBehavior\u001b[0m\u001b[1;33m(\u001b[0m\u001b[0mworld\u001b[0m\u001b[1;33m,\u001b[0m \u001b[0mvehicle_bp\u001b[0m\u001b[1;33m,\u001b[0m \u001b[0msp\u001b[0m\u001b[1;33m,\u001b[0m \u001b[1;32mTrue\u001b[0m\u001b[1;33m,\u001b[0m \u001b[1;34m'normal'\u001b[0m\u001b[1;33m)\u001b[0m\u001b[1;33m\u001b[0m\u001b[1;33m\u001b[0m\u001b[0m\n\u001b[0m",
      "\u001b[1;31mTypeError\u001b[0m: __init__() should return None, not 'Vehicle'"
     ]
    }
   ],
   "source": [
    "vehicle = spawnVehicleWithBehavior(world, vehicle_bp, sp, True, 'normal')"
   ]
  },
  {
   "cell_type": "code",
   "execution_count": 7,
   "id": "67e31c6d",
   "metadata": {},
   "outputs": [
    {
     "ename": "NameError",
     "evalue": "name 'vehicle' is not defined",
     "output_type": "error",
     "traceback": [
      "\u001b[1;31m---------------------------------------------------------------------------\u001b[0m",
      "\u001b[1;31mNameError\u001b[0m                                 Traceback (most recent call last)",
      "\u001b[1;32m<ipython-input-7-ddf76f28f2ba>\u001b[0m in \u001b[0;36m<module>\u001b[1;34m\u001b[0m\n\u001b[1;32m----> 1\u001b[1;33m \u001b[0mvehicle\u001b[0m\u001b[1;33m.\u001b[0m\u001b[0mdestroy\u001b[0m\u001b[1;33m(\u001b[0m\u001b[1;33m)\u001b[0m\u001b[1;33m\u001b[0m\u001b[1;33m\u001b[0m\u001b[0m\n\u001b[0m",
      "\u001b[1;31mNameError\u001b[0m: name 'vehicle' is not defined"
     ]
    }
   ],
   "source": [
    "vehicle.destroy()"
   ]
  },
  {
   "cell_type": "code",
   "execution_count": null,
   "id": "a440644b",
   "metadata": {},
   "outputs": [],
   "source": []
  }
 ],
 "metadata": {
  "kernelspec": {
   "display_name": "Python 3",
   "language": "python",
   "name": "python3"
  },
  "language_info": {
   "codemirror_mode": {
    "name": "ipython",
    "version": 3
   },
   "file_extension": ".py",
   "mimetype": "text/x-python",
   "name": "python",
   "nbconvert_exporter": "python",
   "pygments_lexer": "ipython3",
   "version": "3.7.6"
  }
 },
 "nbformat": 4,
 "nbformat_minor": 5
}
