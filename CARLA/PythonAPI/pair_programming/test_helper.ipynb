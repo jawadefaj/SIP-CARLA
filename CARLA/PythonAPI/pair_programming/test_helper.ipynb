{
 "cells": [
  {
   "cell_type": "code",
   "execution_count": 11,
   "id": "a11145c1",
   "metadata": {},
   "outputs": [],
   "source": [
    "from helper import *"
   ]
  },
  {
   "cell_type": "code",
   "execution_count": 12,
   "id": "07a50ed0",
   "metadata": {},
   "outputs": [
    {
     "name": "stdout",
     "output_type": "stream",
     "text": [
      "CARLA 0.9.11 connected at localhost:2000.\n",
      "<carla.libcarla.Client object at 0x000002F496174870>\n"
     ]
    }
   ],
   "source": [
    "client = connectToClient()\n",
    "world = client.get_world()"
   ]
  },
  {
   "cell_type": "code",
   "execution_count": 13,
   "id": "1b1d07cd",
   "metadata": {},
   "outputs": [],
   "source": [
    "set_camera_over_intersection(world)"
   ]
  },
  {
   "cell_type": "code",
   "execution_count": 14,
   "id": "19fad9f0",
   "metadata": {},
   "outputs": [],
   "source": [
    "bb = draw_bounding_box(world)"
   ]
  },
  {
   "cell_type": "code",
   "execution_count": 15,
   "id": "190497a3",
   "metadata": {},
   "outputs": [],
   "source": [
    "_map = world.get_map()"
   ]
  },
  {
   "cell_type": "code",
   "execution_count": 16,
   "id": "c01163ef",
   "metadata": {},
   "outputs": [],
   "source": [
    "spawn_points = _map.get_spawn_points()"
   ]
  },
  {
   "cell_type": "code",
   "execution_count": null,
   "id": "e6f4e568",
   "metadata": {},
   "outputs": [],
   "source": []
  },
  {
   "cell_type": "code",
   "execution_count": 17,
   "id": "d73d8837",
   "metadata": {},
   "outputs": [],
   "source": [
    "filtered_spawn_points = filter_spawn_points(bb, spawn_points)"
   ]
  },
  {
   "cell_type": "code",
   "execution_count": 10,
   "id": "8d4a5c62",
   "metadata": {},
   "outputs": [
    {
     "name": "stdout",
     "output_type": "stream",
     "text": [
      "Location(x=84.184067, y=-105.191704, z=8.305596)\n"
     ]
    }
   ],
   "source": [
    "filter_point = filtered_spawn_points[3]\n",
    "print(filter_point.location)\n",
    "world.debug.draw_point(filter_point.location, 0.1)"
   ]
  },
  {
   "cell_type": "code",
   "execution_count": 18,
   "id": "bca1162b",
   "metadata": {},
   "outputs": [],
   "source": [
    "for fp in filtered_spawn_points:\n",
    "    world.debug.draw_point(fp.location, 0.1)"
   ]
  },
  {
   "cell_type": "code",
   "execution_count": null,
   "id": "3621b558",
   "metadata": {},
   "outputs": [],
   "source": []
  },
  {
   "cell_type": "code",
   "execution_count": null,
   "id": "9b1baf8e",
   "metadata": {},
   "outputs": [],
   "source": []
  }
 ],
 "metadata": {
  "kernelspec": {
   "display_name": "Python 3",
   "language": "python",
   "name": "python3"
  },
  "language_info": {
   "codemirror_mode": {
    "name": "ipython",
    "version": 3
   },
   "file_extension": ".py",
   "mimetype": "text/x-python",
   "name": "python",
   "nbconvert_exporter": "python",
   "pygments_lexer": "ipython3",
   "version": "3.7.6"
  }
 },
 "nbformat": 4,
 "nbformat_minor": 5
}
