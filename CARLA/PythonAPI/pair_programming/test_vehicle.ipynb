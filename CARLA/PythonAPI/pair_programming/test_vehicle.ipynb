{
 "cells": [
  {
   "cell_type": "code",
   "execution_count": 1,
   "id": "9d94f588",
   "metadata": {},
   "outputs": [
    {
     "name": "stdout",
     "output_type": "stream",
     "text": [
      "Carla import successful\n"
     ]
    }
   ],
   "source": [
    "from helper import *\n",
    "from vehicle import *\n",
    "import random"
   ]
  },
  {
   "cell_type": "code",
   "execution_count": 2,
   "id": "c5c5b55c",
   "metadata": {},
   "outputs": [
    {
     "name": "stdout",
     "output_type": "stream",
     "text": [
      "CARLA 0.9.11 connected at localhost:2000.\n",
      "<carla.libcarla.Client object at 0x0000020C6F251E30>\n"
     ]
    }
   ],
   "source": [
    "client = connectToClient()\n",
    "world = client.get_world()"
   ]
  },
  {
   "cell_type": "code",
   "execution_count": 3,
   "id": "b4faf446",
   "metadata": {},
   "outputs": [],
   "source": [
    "blueprint_library = world.get_blueprint_library()"
   ]
  },
  {
   "cell_type": "code",
   "execution_count": null,
   "id": "75a95d65",
   "metadata": {},
   "outputs": [],
   "source": [
    "vehicle = blueprint_library.filter('vehicle.*.*')\n",
    "vehicle_bp = random.choice(blueprint_library.filter('vehicle.bmw.*'))"
   ]
  },
  {
   "cell_type": "code",
   "execution_count": null,
   "id": "a545f573",
   "metadata": {},
   "outputs": [],
   "source": [
    "for v in vehicle:\n",
    "    print(v.has_attribute('color'))\n",
    "    print(v.get_attribute('color').recommended_values)"
   ]
  },
  {
   "cell_type": "code",
   "execution_count": null,
   "id": "a23c7f51",
   "metadata": {},
   "outputs": [],
   "source": [
    "vehicle_bp.get_attribute('color').recommended_values"
   ]
  },
  {
   "cell_type": "code",
   "execution_count": 4,
   "id": "a52b3da8",
   "metadata": {},
   "outputs": [
    {
     "name": "stdout",
     "output_type": "stream",
     "text": [
      "vehicle\n"
     ]
    }
   ],
   "source": [
    "v = vehicle(world, 'bmw', '0,0,0', None)"
   ]
  },
  {
   "cell_type": "code",
   "execution_count": null,
   "id": "6357f037",
   "metadata": {},
   "outputs": [],
   "source": []
  }
 ],
 "metadata": {
  "kernelspec": {
   "display_name": "Python 3",
   "language": "python",
   "name": "python3"
  },
  "language_info": {
   "codemirror_mode": {
    "name": "ipython",
    "version": 3
   },
   "file_extension": ".py",
   "mimetype": "text/x-python",
   "name": "python",
   "nbconvert_exporter": "python",
   "pygments_lexer": "ipython3",
   "version": "3.7.6"
  }
 },
 "nbformat": 4,
 "nbformat_minor": 5
}
