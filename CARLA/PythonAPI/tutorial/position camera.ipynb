{
 "cells": [
  {
   "cell_type": "code",
   "execution_count": 1,
   "id": "19099fd1",
   "metadata": {},
   "outputs": [
    {
     "name": "stdout",
     "output_type": "stream",
     "text": [
      "Carla import successful\n"
     ]
    }
   ],
   "source": [
    "\n",
    "exec(open(\"init_notebook.py\").read())\n",
    "from helper import *"
   ]
  },
  {
   "cell_type": "code",
   "execution_count": 2,
   "id": "afdf51ff",
   "metadata": {},
   "outputs": [
    {
     "name": "stdout",
     "output_type": "stream",
     "text": [
      "CARLA 0.9.11 connected at localhost:2000.\n",
      "<carla.libcarla.Client object at 0x0000014D796811B8>\n"
     ]
    }
   ],
   "source": [
    "client = connectToClient()"
   ]
  },
  {
   "cell_type": "code",
   "execution_count": 9,
   "id": "d8038f2b",
   "metadata": {},
   "outputs": [
    {
     "data": {
      "text/plain": [
       "<carla.libcarla.Actor at 0x14d79641ad8>"
      ]
     },
     "execution_count": 9,
     "metadata": {},
     "output_type": "execute_result"
    }
   ],
   "source": [
    "world = client.get_world()\n",
    "set_camera_over_intersection(world)"
   ]
  },
  {
   "cell_type": "code",
   "execution_count": 10,
   "id": "443a24b5",
   "metadata": {},
   "outputs": [],
   "source": [
    "extent = carla.Vector3D(x=100, y=100)\n",
    "location = carla.Location(x=80, y=-133, z=80)\n",
    "bounding_box = carla.BoundingBox(location, extent)"
   ]
  },
  {
   "cell_type": "code",
   "execution_count": 11,
   "id": "11b9d7e0",
   "metadata": {},
   "outputs": [],
   "source": [
    "debug_helper = carla.DebugHelper"
   ]
  },
  {
   "cell_type": "code",
   "execution_count": 12,
   "id": "8d90ed46",
   "metadata": {},
   "outputs": [
    {
     "data": {
      "text/plain": [
       "carla.libcarla.DebugHelper"
      ]
     },
     "execution_count": 12,
     "metadata": {},
     "output_type": "execute_result"
    }
   ],
   "source": [
    "debug_helper"
   ]
  },
  {
   "cell_type": "code",
   "execution_count": null,
   "id": "d3102ec9",
   "metadata": {},
   "outputs": [],
   "source": []
  },
  {
   "cell_type": "code",
   "execution_count": null,
   "id": "bb16b1d3",
   "metadata": {},
   "outputs": [],
   "source": [
    "spectator.get_transform().rotation.roll"
   ]
  },
  {
   "cell_type": "code",
   "execution_count": null,
   "id": "f217546d",
   "metadata": {},
   "outputs": [],
   "source": [
    "spectator.set_transform(carla.Transform(transform.location + carla.Location(z=50),\n",
    "carla.Rotation(pitch=-90)))"
   ]
  },
  {
   "cell_type": "code",
   "execution_count": 13,
   "id": "96ce2e64",
   "metadata": {},
   "outputs": [],
   "source": [
    "from get_spawn_points import *\n",
    "valid_spawn_points = filter_spawn_points(location,extent)"
   ]
  },
  {
   "cell_type": "code",
   "execution_count": 16,
   "id": "7d79280c",
   "metadata": {},
   "outputs": [],
   "source": [
    "import random\n",
    "blueprint_library = world.get_blueprint_library()\n",
    "blueprints = world.get_blueprint_library().filter('vehicle.*')\n",
    "\n",
    "transform = valid_spawn_points[0]\n",
    "num_vehicles = 1\n",
    "actor_list=[]\n",
    "for i in range(num_vehicles):\n",
    "    vehicle_bp = random.choice(blueprints)\n",
    "    actor = world.spawn_actor(vehicle_bp, transform)\n",
    "    actor_list.append(actor)"
   ]
  },
  {
   "cell_type": "code",
   "execution_count": 17,
   "id": "c0b64770",
   "metadata": {},
   "outputs": [
    {
     "data": {
      "text/plain": [
       "False"
      ]
     },
     "execution_count": 17,
     "metadata": {},
     "output_type": "execute_result"
    }
   ],
   "source": [
    "\n",
    "actor.destroy()"
   ]
  },
  {
   "cell_type": "code",
   "execution_count": null,
   "id": "1c5a9e03",
   "metadata": {},
   "outputs": [],
   "source": []
  }
 ],
 "metadata": {
  "kernelspec": {
   "display_name": "Python [conda env:carla] *",
   "language": "python",
   "name": "conda-env-carla-py"
  },
  "language_info": {
   "codemirror_mode": {
    "name": "ipython",
    "version": 3
   },
   "file_extension": ".py",
   "mimetype": "text/x-python",
   "name": "python",
   "nbconvert_exporter": "python",
   "pygments_lexer": "ipython3",
   "version": "3.7.0"
  }
 },
 "nbformat": 4,
 "nbformat_minor": 5
}
