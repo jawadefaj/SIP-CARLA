{
 "cells": [
  {
   "cell_type": "code",
   "execution_count": 1,
   "id": "19099fd1",
   "metadata": {},
   "outputs": [
    {
     "name": "stdout",
     "output_type": "stream",
     "text": [
      "Carla import successful\n"
     ]
    }
   ],
   "source": [
    "exec(open(\"init_notebook.py\").read())\n",
    "from helper import *"
   ]
  },
  {
   "cell_type": "code",
   "execution_count": 2,
   "id": "afdf51ff",
   "metadata": {},
   "outputs": [
    {
     "name": "stdout",
     "output_type": "stream",
     "text": [
      "CARLA 0.9.11 connected at localhost:2000.\n",
      "<carla.libcarla.Client object at 0x000002089ECAE1B0>\n"
     ]
    }
   ],
   "source": [
    "client = connectToClient()"
   ]
  },
  {
   "cell_type": "code",
   "execution_count": 16,
   "id": "d8038f2b",
   "metadata": {},
   "outputs": [],
   "source": [
    "world = client.get_world()\n",
    "set_camera_over_intersection(world)"
   ]
  },
  {
   "cell_type": "code",
   "execution_count": 17,
   "id": "443a24b5",
   "metadata": {},
   "outputs": [],
   "source": [
    "spectator = world.get_spectator()"
   ]
  },
  {
   "cell_type": "code",
   "execution_count": 25,
   "id": "3c7a366f",
   "metadata": {},
   "outputs": [
    {
     "data": {
      "text/plain": [
       "85.9256591796875"
      ]
     },
     "execution_count": 25,
     "metadata": {},
     "output_type": "execute_result"
    }
   ],
   "source": [
    "spectator.get_location().z"
   ]
  },
  {
   "cell_type": "code",
   "execution_count": 7,
   "id": "7e921228",
   "metadata": {},
   "outputs": [],
   "source": [
    "debug = world.debug"
   ]
  },
  {
   "cell_type": "code",
   "execution_count": 14,
   "id": "fd98d51e",
   "metadata": {},
   "outputs": [],
   "source": [
    "location = carla.Location(x=80, y=-134, z=10)\n",
    "rotation = carla.Rotation(pitch=-90, yaw=95, roll=0)\n",
    "debug = world.debug\n",
    "debug.draw_box(carla.BoundingBox(location, carla.Vector3D(2,10,10)),\n",
    "               rotation, \n",
    "               0.05, \n",
    "               carla.Color(255,0,0,0),\n",
    "               0)"
   ]
  },
  {
   "cell_type": "code",
   "execution_count": 27,
   "id": "343a8ff5",
   "metadata": {},
   "outputs": [
    {
     "data": {
      "text/plain": [
       "<carla.libcarla.World at 0x208a02f2630>"
      ]
     },
     "execution_count": 27,
     "metadata": {},
     "output_type": "execute_result"
    }
   ],
   "source": [
    "client.reload_world()"
   ]
  },
  {
   "cell_type": "code",
   "execution_count": null,
   "id": "4b34912c",
   "metadata": {},
   "outputs": [],
   "source": []
  }
 ],
 "metadata": {
  "kernelspec": {
   "display_name": "Python 3",
   "language": "python",
   "name": "python3"
  },
  "language_info": {
   "codemirror_mode": {
    "name": "ipython",
    "version": 3
   },
   "file_extension": ".py",
   "mimetype": "text/x-python",
   "name": "python",
   "nbconvert_exporter": "python",
   "pygments_lexer": "ipython3",
   "version": "3.7.6"
  }
 },
 "nbformat": 4,
 "nbformat_minor": 5
}
