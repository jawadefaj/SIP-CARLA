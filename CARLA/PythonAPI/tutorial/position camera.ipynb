{
 "cells": [
  {
   "cell_type": "code",
   "execution_count": 2,
   "id": "19099fd1",
   "metadata": {},
   "outputs": [
    {
     "name": "stdout",
     "output_type": "stream",
     "text": [
      "Carla import successful\n"
     ]
    }
   ],
   "source": [
    "\n",
    "exec(open(\"init_notebook.py\").read())\n",
    "from helper import *"
   ]
  },
  {
   "cell_type": "code",
   "execution_count": 3,
   "id": "afdf51ff",
   "metadata": {},
   "outputs": [
    {
     "name": "stdout",
     "output_type": "stream",
     "text": [
      "CARLA 0.9.11 connected at localhost:2000.\n",
      "<carla.libcarla.Client object at 0x0000021A8941F730>\n"
     ]
    }
   ],
   "source": [
    "client = connectToClient()"
   ]
  },
  {
   "cell_type": "code",
   "execution_count": 4,
   "id": "d8038f2b",
   "metadata": {},
   "outputs": [
    {
     "data": {
      "text/plain": [
       "<carla.libcarla.Actor at 0x21a8905f348>"
      ]
     },
     "execution_count": 4,
     "metadata": {},
     "output_type": "execute_result"
    }
   ],
   "source": [
    "world = client.get_world()\n",
    "set_camera_over_intersection(world)"
   ]
  },
  {
   "cell_type": "code",
   "execution_count": null,
   "id": "443a24b5",
   "metadata": {},
   "outputs": [],
   "source": [
    "extent = carla.Vector3D(x=100, y=100)\n",
    "location = carla.Location(x=80, y=-133, z=80)\n",
    "bounding_box = carla.BoundingBox(location, extent)"
   ]
  },
  {
   "cell_type": "code",
   "execution_count": null,
   "id": "11b9d7e0",
   "metadata": {},
   "outputs": [],
   "source": [
    "debug_helper = carla.DebugHelper"
   ]
  },
  {
   "cell_type": "code",
   "execution_count": null,
   "id": "8d90ed46",
   "metadata": {},
   "outputs": [],
   "source": [
    "debug_helper"
   ]
  },
  {
   "cell_type": "code",
   "execution_count": null,
   "id": "d3102ec9",
   "metadata": {},
   "outputs": [],
   "source": []
  },
  {
   "cell_type": "code",
   "execution_count": null,
   "id": "bb16b1d3",
   "metadata": {},
   "outputs": [],
   "source": [
    "spectator.get_transform().rotation.roll"
   ]
  },
  {
   "cell_type": "code",
   "execution_count": null,
   "id": "f217546d",
   "metadata": {},
   "outputs": [],
   "source": [
    "spectator.set_transform(carla.Transform(transform.location + carla.Location(z=50),\n",
    "carla.Rotation(pitch=-90)))"
   ]
  },
  {
   "cell_type": "code",
   "execution_count": null,
   "id": "96ce2e64",
   "metadata": {},
   "outputs": [],
   "source": [
    "from get_spawn_points import *\n",
    "valid_spawn_points = filter_spawn_points(location,extent)"
   ]
  },
  {
   "cell_type": "code",
   "execution_count": null,
   "id": "7d79280c",
   "metadata": {},
   "outputs": [],
   "source": [
    "blueprint_library = world.get_blueprint_library()\n",
    "vehicle_bp = random.choice(blueprint_library.filter('vehicle.bmw.*'))\n",
    "transform = valid_spawn_points[0]\n",
    "num_vehicles = 3\n",
    "for i in range(num_vehicles):\n",
    "    actor = world.spawn_actor(vehicle_bp, transform)"
   ]
  }
 ],
 "metadata": {
  "kernelspec": {
   "display_name": "Python [conda env:carla] *",
   "language": "python",
   "name": "conda-env-carla-py"
  },
  "language_info": {
   "codemirror_mode": {
    "name": "ipython",
    "version": 3
   },
   "file_extension": ".py",
   "mimetype": "text/x-python",
   "name": "python",
   "nbconvert_exporter": "python",
   "pygments_lexer": "ipython3",
   "version": "3.7.0"
  }
 },
 "nbformat": 4,
 "nbformat_minor": 5
}
