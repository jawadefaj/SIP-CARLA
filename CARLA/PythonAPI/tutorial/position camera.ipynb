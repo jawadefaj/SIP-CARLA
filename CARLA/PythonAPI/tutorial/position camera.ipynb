{
 "cells": [
  {
   "cell_type": "code",
   "execution_count": 1,
   "id": "19099fd1",
   "metadata": {},
   "outputs": [
    {
     "name": "stdout",
     "output_type": "stream",
     "text": [
      "Carla import successful\n"
     ]
    }
   ],
   "source": [
    "exec(open(\"init_notebook.py\").read())\n",
    "from helper import *"
   ]
  },
  {
   "cell_type": "code",
   "execution_count": 2,
   "id": "afdf51ff",
   "metadata": {},
   "outputs": [
    {
     "name": "stdout",
     "output_type": "stream",
     "text": [
      "CARLA 0.9.11 connected at localhost:2000.\n",
      "<carla.libcarla.Client object at 0x0000022E254459F0>\n"
     ]
    }
   ],
   "source": [
    "client = connectToClient()"
   ]
  },
  {
   "cell_type": "code",
   "execution_count": 3,
   "id": "d8038f2b",
   "metadata": {},
   "outputs": [],
   "source": [
    "world = client.get_world()\n",
    "set_camera_over_intersection(world)"
   ]
  },
  {
   "cell_type": "code",
   "execution_count": null,
   "id": "443a24b5",
   "metadata": {},
   "outputs": [],
   "source": [
    "extent = carla.Vector3D(x=100, y=100)\n",
    "location = carla.Location(x=80, y=-133, z=80)\n",
    "bounding_box = carla.BoundingBox(location, extent)"
   ]
  },
  {
   "cell_type": "code",
   "execution_count": null,
   "id": "11b9d7e0",
   "metadata": {},
   "outputs": [],
   "source": [
    "debug_helper = carla.DebugHelper"
   ]
  },
  {
   "cell_type": "code",
   "execution_count": null,
   "id": "8d90ed46",
   "metadata": {},
   "outputs": [],
   "source": [
    "debug_helper"
   ]
  },
  {
   "cell_type": "code",
   "execution_count": null,
   "id": "d3102ec9",
   "metadata": {},
   "outputs": [],
   "source": []
  },
  {
   "cell_type": "code",
   "execution_count": null,
   "id": "bb16b1d3",
   "metadata": {},
   "outputs": [],
   "source": [
    "spectator.get_transform().rotation.roll"
   ]
  },
  {
   "cell_type": "code",
   "execution_count": null,
   "id": "f217546d",
   "metadata": {},
   "outputs": [],
   "source": [
    "spectator.set_transform(carla.Transform(transform.location + carla.Location(z=50),\n",
    "carla.Rotation(pitch=-90)))"
   ]
  }
 ],
 "metadata": {
  "kernelspec": {
   "display_name": "Python 3",
   "language": "python",
   "name": "python3"
  },
  "language_info": {
   "codemirror_mode": {
    "name": "ipython",
    "version": 3
   },
   "file_extension": ".py",
   "mimetype": "text/x-python",
   "name": "python",
   "nbconvert_exporter": "python",
   "pygments_lexer": "ipython3",
   "version": "3.7.6"
  }
 },
 "nbformat": 4,
 "nbformat_minor": 5
}
