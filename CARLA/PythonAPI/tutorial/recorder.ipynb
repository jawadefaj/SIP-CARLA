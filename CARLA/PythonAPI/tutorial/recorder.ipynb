{
 "cells": [
  {
   "cell_type": "code",
   "execution_count": null,
   "id": "19099fd1",
   "metadata": {},
   "outputs": [],
   "source": [
    "\n",
    "exec(open(\"init_notebook.py\").read())\n",
    "from helper import *\n",
    "import random\n",
    "import time\n",
    "from agents.navigation.behavior_agent import *\n",
    "from get_spawn_points import *"
   ]
  },
  {
   "cell_type": "code",
   "execution_count": null,
   "id": "afdf51ff",
   "metadata": {},
   "outputs": [],
   "source": [
    "client = connectToClient()"
   ]
  },
  {
   "cell_type": "code",
   "execution_count": null,
   "id": "d8038f2b",
   "metadata": {},
   "outputs": [],
   "source": [
    "world = client.get_world()\n",
    "set_camera_over_intersection(world)"
   ]
  },
  {
   "cell_type": "code",
   "execution_count": null,
   "id": "c713c046",
   "metadata": {},
   "outputs": [],
   "source": []
  },
  {
   "cell_type": "code",
   "execution_count": null,
   "id": "5dd2909d",
   "metadata": {},
   "outputs": [],
   "source": []
  },
  {
   "cell_type": "code",
   "execution_count": null,
   "id": "4f926723",
   "metadata": {},
   "outputs": [],
   "source": []
  },
  {
   "cell_type": "code",
   "execution_count": null,
   "id": "443a24b5",
   "metadata": {},
   "outputs": [],
   "source": [
    "extent = carla.Vector3D(x=100, y=100)\n",
    "location = carla.Location(x=80, y=-133, z=80)\n",
    "bounding_box = carla.BoundingBox(location, extent)"
   ]
  },
  {
   "cell_type": "code",
   "execution_count": null,
   "id": "11b9d7e0",
   "metadata": {},
   "outputs": [],
   "source": [
    "debug_helper = carla.DebugHelper"
   ]
  },
  {
   "cell_type": "code",
   "execution_count": null,
   "id": "8d90ed46",
   "metadata": {},
   "outputs": [],
   "source": [
    "debug_helper"
   ]
  },
  {
   "cell_type": "code",
   "execution_count": null,
   "id": "d3102ec9",
   "metadata": {},
   "outputs": [],
   "source": [
    "valid_points = filter_spawn_points(location,extent)"
   ]
  },
  {
   "cell_type": "code",
   "execution_count": null,
   "id": "bb16b1d3",
   "metadata": {},
   "outputs": [],
   "source": [
    "location.x = 120.446167\n",
    "location.y = -130.055023\n",
    "location.z = z=10\n",
    "spawn_point = carla.Transform(location, carla.Rotation(yaw=360))"
   ]
  },
  {
   "cell_type": "code",
   "execution_count": null,
   "id": "f217546d",
   "metadata": {},
   "outputs": [],
   "source": [
    "location.x = 80.446170\n",
    "location.y = -130.055023\n",
    "location.z = z=10\n",
    "spawn_points = []\n",
    "for i in range(5):\n",
    "    location.x -=10\n",
    "    spawn_point = carla.Transform(location, carla.Rotation(yaw=360))\n",
    "    spawn_points.append(spawn_point)\n",
    "location.x = 80.446170\n",
    "for i in range(5):\n",
    "    location.y -=10\n",
    "    spawn_point = carla.Transform(location, carla.Rotation(yaw=270))\n",
    "    spawn_points.append(spawn_point)\n",
    "location.y = -130.055023\n",
    "for i in range(5):\n",
    "    location.x +=10\n",
    "    spawn_point = carla.Transform(location, carla.Rotation(yaw=180))\n",
    "    spawn_points.append(spawn_point)\n",
    "location.x = 80.446170\n",
    "for i in range(5):\n",
    "    location.y +=10\n",
    "    spawn_point = carla.Transform(location, carla.Rotation(yaw=90))\n",
    "    spawn_points.append(spawn_point)"
   ]
  },
  {
   "cell_type": "code",
   "execution_count": null,
   "id": "96ce2e64",
   "metadata": {},
   "outputs": [],
   "source": [
    "destination = carla.Location(x=120.446167, y=-250.055023, z=0)\n"
   ]
  },
  {
   "cell_type": "code",
   "execution_count": null,
   "id": "7d79280c",
   "metadata": {},
   "outputs": [],
   "source": [
    "\n",
    "blueprint_library = world.get_blueprint_library()\n",
    "\n",
    "num_vehicles = 5\n",
    "actor_list=[]\n",
    "for i in range(6):\n",
    "    vehicle_bp = random.choice(blueprint_library.filter('vehicle.*.*'))\n",
    "    print(spawn_points[i])\n",
    "    try:\n",
    "        actor = world.spawn_actor(vehicle_bp, spawn_points[i])\n",
    "        print(actor.get_speed_limit())\n",
    "        agent = BehaviorAgent(actor, ignore_traffic_light=False, behavior='cautious')\n",
    "        actor.set_autopilot()\n",
    "        print(actor.get_speed_limit())\n",
    "        agent.set_destination(agent.vehicle.get_location(), destination, clean=True)\n",
    "    except Exception as e:\n",
    "        print(\"crashc\")\n",
    "        print(e)\n",
    "        continue\n",
    "\n"
   ]
  },
  {
   "cell_type": "code",
   "execution_count": null,
   "id": "ef221928",
   "metadata": {},
   "outputs": [],
   "source": [
    "client.start_recorder(\"recording01.log\", True)"
   ]
  },
  {
   "cell_type": "code",
   "execution_count": null,
   "id": "fbd93d07",
   "metadata": {},
   "outputs": [],
   "source": [
    "for i in range(6,13):\n",
    "    vehicle_bp = random.choice(blueprint_library.filter('vehicle.*.*'))\n",
    "    print(spawn_points[i])\n",
    "    try:\n",
    "        actor = world.spawn_actor(vehicle_bp, spawn_points[i])\n",
    "        print(actor.get_speed_limit())\n",
    "        agent = BehaviorAgent(actor, ignore_traffic_light=False, behavior='aggressive')\n",
    "        #actor = world.spawn_actor(vehicle_bp, spawn_point, attach_to=actor)\n",
    "        print(actor.get_speed_limit())\n",
    "        actor.set_autopilot()\n",
    "    except:\n",
    "        print(\"crasha\")\n",
    "        continue\n",
    "    \n",
    "for i in range(13,20):\n",
    "    vehicle_bp = random.choice(blueprint_library.filter('vehicle.*.*'))\n",
    "    print(spawn_points[i])\n",
    "    try:\n",
    "        actor = world.spawn_actor(vehicle_bp, spawn_points[i])\n",
    "        print(actor.get_speed_limit())\n",
    "        agent = BehaviorAgent(actor, ignore_traffic_light=False, behavior='normal')\n",
    "        #actor = world.spawn_actor(vehicle_bp, spawn_point, attach_to=actor)\n",
    "        print(actor.get_speed_limit())\n",
    "        actor.set_autopilot()\n",
    "    except:\n",
    "        print(\"crashn\")\n",
    "        continue"
   ]
  },
  {
   "cell_type": "code",
   "execution_count": null,
   "id": "c0b64770",
   "metadata": {},
   "outputs": [],
   "source": [
    "client.stop_recorder()"
   ]
  },
  {
   "cell_type": "code",
   "execution_count": null,
   "id": "1c5a9e03",
   "metadata": {},
   "outputs": [],
   "source": [
    "destroyAllVehicleActor(world)"
   ]
  },
  {
   "cell_type": "code",
   "execution_count": null,
   "id": "aa4e2f35",
   "metadata": {},
   "outputs": [],
   "source": [
    "client.set_replayer_time_factor(2.5)\n",
    "client.replay_file(\"recording01.log\", 1, 0, 0)"
   ]
  },
  {
   "cell_type": "code",
   "execution_count": null,
   "id": "e48f90ce",
   "metadata": {},
   "outputs": [],
   "source": [
    "output = client.show_recorder_file_info(\"recording01.log\",True)"
   ]
  },
  {
   "cell_type": "code",
   "execution_count": 7,
   "id": "c12225e4",
   "metadata": {},
   "outputs": [],
   "source": [
    "file = open(\"output.txt\",\"r+\")\n",
    "file.truncate(0)\n",
    "file.close()\n",
    "\n",
    "text_file = open(\"output.txt\", \"w\")\n",
    "n = text_file.write(output)\n",
    " \n",
    "#close file\n",
    "text_file.close()"
   ]
  },
  {
   "cell_type": "code",
   "execution_count": null,
   "id": "9129619c",
   "metadata": {},
   "outputs": [],
   "source": [
    "print(client.show_recorder_actors_blocked(\"recording01.log\",10,1))"
   ]
  },
  {
   "cell_type": "code",
   "execution_count": null,
   "id": "ed2767df",
   "metadata": {},
   "outputs": [],
   "source": [
    "print(client.show_recorder_collisions(\"recording01.log\",'v','a'))"
   ]
  },
  {
   "cell_type": "code",
   "execution_count": 3,
   "id": "c25e03e3",
   "metadata": {},
   "outputs": [],
   "source": [
    "file = open(\"ahahahahha.txt\",\"w+\")"
   ]
  },
  {
   "cell_type": "code",
   "execution_count": 4,
   "id": "a0d85574",
   "metadata": {},
   "outputs": [],
   "source": [
    "file.close()"
   ]
  },
  {
   "cell_type": "code",
   "execution_count": null,
   "id": "42100d5b",
   "metadata": {},
   "outputs": [],
   "source": []
  }
 ],
 "metadata": {
  "kernelspec": {
   "display_name": "Python [conda env:carla] *",
   "language": "python",
   "name": "conda-env-carla-py"
  },
  "language_info": {
   "codemirror_mode": {
    "name": "ipython",
    "version": 3
   },
   "file_extension": ".py",
   "mimetype": "text/x-python",
   "name": "python",
   "nbconvert_exporter": "python",
   "pygments_lexer": "ipython3",
   "version": "3.7.0"
  }
 },
 "nbformat": 4,
 "nbformat_minor": 5
}
