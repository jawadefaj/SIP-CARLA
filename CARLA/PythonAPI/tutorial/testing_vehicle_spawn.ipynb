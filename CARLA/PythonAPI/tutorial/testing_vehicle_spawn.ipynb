{
 "cells": [
  {
   "cell_type": "code",
   "execution_count": null,
   "id": "0d89b665",
   "metadata": {},
   "outputs": [],
   "source": [
    "exec(open(\"init_notebook.py\").read())"
   ]
  },
  {
   "cell_type": "code",
   "execution_count": null,
   "id": "e764e54d",
   "metadata": {},
   "outputs": [],
   "source": [
    "from helper import *\n",
    "import random"
   ]
  },
  {
   "cell_type": "code",
   "execution_count": null,
   "id": "3636565d",
   "metadata": {},
   "outputs": [],
   "source": [
    "client = connectToClient('127.0.0.1', 2000)"
   ]
  },
  {
   "cell_type": "code",
   "execution_count": null,
   "id": "bc075e29",
   "metadata": {},
   "outputs": [],
   "source": [
    "# traffic_manager = initializeTrafficManager(client, 2.0, True, True)\n",
    "vehicle_list = []"
   ]
  },
  {
   "cell_type": "code",
   "execution_count": null,
   "id": "fb5b94cb",
   "metadata": {},
   "outputs": [],
   "source": [
    "world = client.get_world()\n",
    "traffic_manager = initializeTrafficManager(client, 1.0, False, False)\n",
    "vehicle_blueprints = world.get_blueprint_library().filter('vehicle')\n",
    "spawn_points = world.get_map().get_spawn_points()"
   ]
  },
  {
   "cell_type": "code",
   "execution_count": null,
   "id": "6e81e0f6",
   "metadata": {},
   "outputs": [],
   "source": [
    "# print(len(vehicle_blueprints))\n",
    "# print(len(spawn_points))\n",
    "for i in range(10):\n",
    "    vehicle_bp = random.choice(vehicle_blueprints)\n",
    "    spawn_location = random.choice(spawn_points)\n",
    "    print(vehicle_bp)\n",
    "    print(spawn_location)\n",
    "    temp_vehicle = spawnVehicleOnWayPoint(world, traffic_manager, vehicle_bp, spawn_location, 'autopilot')\n",
    "    vehicle_list.append(temp_vehicle)"
   ]
  },
  {
   "cell_type": "code",
   "execution_count": null,
   "id": "32221e8c",
   "metadata": {},
   "outputs": [],
   "source": [
    "vehicle_list\n"
   ]
  },
  {
   "cell_type": "code",
   "execution_count": null,
   "id": "de92f345",
   "metadata": {},
   "outputs": [],
   "source": [
    "print(vehicle_list[0].destroy())"
   ]
  },
  {
   "cell_type": "code",
   "execution_count": null,
   "id": "db76fc8f",
   "metadata": {},
   "outputs": [],
   "source": [
    "actors = world.get_actors().filter('*')"
   ]
  },
  {
   "cell_type": "code",
   "execution_count": null,
   "id": "1eddbb10",
   "metadata": {},
   "outputs": [],
   "source": [
    "for actor in actors:\n",
    "    print(actor)\n"
   ]
  },
  {
   "cell_type": "code",
   "execution_count": null,
   "id": "ce43a318",
   "metadata": {},
   "outputs": [],
   "source": [
    "destroyAllVehicleActor(vehicle_list=vehicle_list)"
   ]
  },
  {
   "cell_type": "code",
   "execution_count": null,
   "id": "eb5ccf90",
   "metadata": {},
   "outputs": [],
   "source": [
    "resetCarlaWorld(client)"
   ]
  },
  {
   "cell_type": "code",
   "execution_count": null,
   "id": "44394097",
   "metadata": {},
   "outputs": [],
   "source": [
    "destroy(vehicle_list[2])"
   ]
  },
  {
   "cell_type": "code",
   "execution_count": null,
   "id": "d5812588",
   "metadata": {},
   "outputs": [],
   "source": []
  }
 ],
 "metadata": {
  "kernelspec": {
   "display_name": "Python 3",
   "language": "python",
   "name": "python3"
  },
  "language_info": {
   "codemirror_mode": {
    "name": "ipython",
    "version": 3
   },
   "file_extension": ".py",
   "mimetype": "text/x-python",
   "name": "python",
   "nbconvert_exporter": "python",
   "pygments_lexer": "ipython3",
   "version": "3.8.8"
  }
 },
 "nbformat": 4,
 "nbformat_minor": 5
}
