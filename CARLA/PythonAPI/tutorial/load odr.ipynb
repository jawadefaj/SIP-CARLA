{
 "cells": [
  {
   "cell_type": "code",
   "execution_count": 1,
   "id": "2b0392e8",
   "metadata": {},
   "outputs": [
    {
     "name": "stdout",
     "output_type": "stream",
     "text": [
      "Carla import successful\n"
     ]
    }
   ],
   "source": [
    "exec(open(\"init_notebook.py\").read())"
   ]
  },
  {
   "cell_type": "code",
   "execution_count": 2,
   "id": "750fe3a7",
   "metadata": {},
   "outputs": [],
   "source": [
    "from helper import *"
   ]
  },
  {
   "cell_type": "code",
   "execution_count": 3,
   "id": "897ef16c",
   "metadata": {},
   "outputs": [
    {
     "name": "stdout",
     "output_type": "stream",
     "text": [
      "CARLA 0.9.11 connected at localhost:2000.\n",
      "<carla.libcarla.Client object at 0x000001C22DBC51F0>\n"
     ]
    }
   ],
   "source": [
    "client = connectToClient()"
   ]
  },
  {
   "cell_type": "code",
   "execution_count": 6,
   "id": "678ca08b",
   "metadata": {},
   "outputs": [],
   "source": [
    "f = open(\"..\\\\odr\\\\test_generateWithHorizontalControlines.xodr\", \"r\")\n",
    "odr_string = f.read()"
   ]
  },
  {
   "cell_type": "code",
   "execution_count": 7,
   "id": "c0d739c3",
   "metadata": {},
   "outputs": [
    {
     "data": {
      "text/plain": [
       "<carla.libcarla.World at 0x1c22fe6df90>"
      ]
     },
     "execution_count": 7,
     "metadata": {},
     "output_type": "execute_result"
    }
   ],
   "source": [
    "client.generate_opendrive_world(odr_string) "
   ]
  },
  {
   "cell_type": "code",
   "execution_count": null,
   "id": "29153479",
   "metadata": {},
   "outputs": [],
   "source": []
  }
 ],
 "metadata": {
  "kernelspec": {
   "display_name": "Python 3",
   "language": "python",
   "name": "python3"
  },
  "language_info": {
   "codemirror_mode": {
    "name": "ipython",
    "version": 3
   },
   "file_extension": ".py",
   "mimetype": "text/x-python",
   "name": "python",
   "nbconvert_exporter": "python",
   "pygments_lexer": "ipython3",
   "version": "3.8.8"
  }
 },
 "nbformat": 4,
 "nbformat_minor": 5
}
