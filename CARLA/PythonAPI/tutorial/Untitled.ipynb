{
 "cells": [
  {
   "cell_type": "code",
   "execution_count": 1,
   "id": "3208c3ae",
   "metadata": {},
   "outputs": [
    {
     "name": "stdout",
     "output_type": "stream",
     "text": [
      "Carla import successful\n"
     ]
    }
   ],
   "source": [
    "exec(open(\"init_notebook.py\").read())\n",
    "from helper import *"
   ]
  },
  {
   "cell_type": "code",
   "execution_count": 2,
   "id": "405e4a0e",
   "metadata": {},
   "outputs": [],
   "source": [
    "_helper = Helper('127')"
   ]
  },
  {
   "cell_type": "code",
   "execution_count": 3,
   "id": "7ed6ad7e",
   "metadata": {},
   "outputs": [
    {
     "data": {
      "text/plain": [
       "'127'"
      ]
     },
     "execution_count": 3,
     "metadata": {},
     "output_type": "execute_result"
    }
   ],
   "source": [
    "_helper.get_host()"
   ]
  },
  {
   "cell_type": "code",
   "execution_count": null,
   "id": "b5c7b82c",
   "metadata": {},
   "outputs": [],
   "source": []
  }
 ],
 "metadata": {
  "kernelspec": {
   "display_name": "Python [conda env:carla] *",
   "language": "python",
   "name": "conda-env-carla-py"
  },
  "language_info": {
   "codemirror_mode": {
    "name": "ipython",
    "version": 3
   },
   "file_extension": ".py",
   "mimetype": "text/x-python",
   "name": "python",
   "nbconvert_exporter": "python",
   "pygments_lexer": "ipython3",
   "version": "3.7.0"
  }
 },
 "nbformat": 4,
 "nbformat_minor": 5
}
