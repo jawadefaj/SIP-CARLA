{
 "cells": [
  {
   "cell_type": "code",
   "execution_count": 1,
   "id": "d938d630",
   "metadata": {},
   "outputs": [
    {
     "name": "stdout",
     "output_type": "stream",
     "text": [
      "Carla import successful\n"
     ]
    }
   ],
   "source": [
    "exec(open(\"init_notebook.py\").read())\n",
    "from helper import *"
   ]
  },
  {
   "cell_type": "code",
   "execution_count": 2,
   "id": "19421855",
   "metadata": {},
   "outputs": [
    {
     "name": "stdout",
     "output_type": "stream",
     "text": [
      "{'x': 87.4882583618164, 'y': -137.6378936767578, 'z': 82.77605438232422} {'pitch': -88.2068099975586, 'yaw': -87.31599426269531, 'roll': 0.0031104013323783875}\n"
     ]
    }
   ],
   "source": [
    "test_configuration()"
   ]
  },
  {
   "cell_type": "code",
   "execution_count": 4,
   "id": "91194cd4",
   "metadata": {},
   "outputs": [
    {
     "name": "stdout",
     "output_type": "stream",
     "text": [
      "CARLA 0.9.11 connected at localhost:2000.\n",
      "<carla.libcarla.Client object at 0x000001FD1DE1C030>\n"
     ]
    }
   ],
   "source": [
    "client = connectToClient()"
   ]
  },
  {
   "cell_type": "code",
   "execution_count": 44,
   "id": "a6be0e6f",
   "metadata": {},
   "outputs": [],
   "source": [
    "world = client.get_world()\n",
    "set_camera_over_intersection(world)"
   ]
  },
  {
   "cell_type": "code",
   "execution_count": null,
   "id": "f1d86b85",
   "metadata": {},
   "outputs": [],
   "source": [
    "debug = world.debug"
   ]
  },
  {
   "cell_type": "code",
   "execution_count": 52,
   "id": "566d4dd3",
   "metadata": {},
   "outputs": [],
   "source": [
    "location = carla.Location(x=83, y=-135, z= 10)\n",
    "rotation = carla.Rotation(pitch=0, yaw=0, roll=0)\n",
    "debug = world.debug\n",
    "debug.draw_box(carla.BoundingBox(location, carla.Vector3D(50,50,5)),\n",
    "               rotation, \n",
    "               0.5, \n",
    "               carla.Color(255,0,0,0),\n",
    "               0)"
   ]
  },
  {
   "cell_type": "code",
   "execution_count": null,
   "id": "e0020b18",
   "metadata": {},
   "outputs": [],
   "source": [
    "spectator = world.get_spectator()"
   ]
  },
  {
   "cell_type": "code",
   "execution_count": null,
   "id": "62634bfb",
   "metadata": {},
   "outputs": [],
   "source": [
    "loc = spectator.get_transform().location\n",
    "print(loc.x, loc.y, loc.z)"
   ]
  },
  {
   "cell_type": "code",
   "execution_count": null,
   "id": "8f67ce5d",
   "metadata": {},
   "outputs": [],
   "source": [
    "rot = spectator.get_transform().rotation\n",
    "print(rot.pitch, rot.yaw, rot.roll)"
   ]
  },
  {
   "cell_type": "code",
   "execution_count": 53,
   "id": "88f14145",
   "metadata": {},
   "outputs": [],
   "source": [
    "resetCarlaWorld(client)\n",
    "set_camera_over_intersection(world)"
   ]
  },
  {
   "cell_type": "code",
   "execution_count": null,
   "id": "22d0fa18",
   "metadata": {},
   "outputs": [],
   "source": []
  },
  {
   "cell_type": "code",
   "execution_count": null,
   "id": "9ebe129c",
   "metadata": {},
   "outputs": [],
   "source": []
  }
 ],
 "metadata": {
  "kernelspec": {
   "display_name": "Python 3",
   "language": "python",
   "name": "python3"
  },
  "language_info": {
   "codemirror_mode": {
    "name": "ipython",
    "version": 3
   },
   "file_extension": ".py",
   "mimetype": "text/x-python",
   "name": "python",
   "nbconvert_exporter": "python",
   "pygments_lexer": "ipython3",
   "version": "3.7.6"
  }
 },
 "nbformat": 4,
 "nbformat_minor": 5
}
