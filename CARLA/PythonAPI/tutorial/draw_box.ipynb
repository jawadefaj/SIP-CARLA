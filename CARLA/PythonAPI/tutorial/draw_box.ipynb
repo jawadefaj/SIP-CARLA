{
 "cells": [
  {
   "cell_type": "code",
   "execution_count": 13,
   "id": "d938d630",
   "metadata": {},
   "outputs": [
    {
     "name": "stdout",
     "output_type": "stream",
     "text": [
      "Carla import successful\n"
     ]
    }
   ],
   "source": [
    "exec(open(\"init_notebook.py\").read())\n",
    "from helper import *"
   ]
  },
  {
   "cell_type": "code",
   "execution_count": 14,
   "id": "91194cd4",
   "metadata": {},
   "outputs": [
    {
     "name": "stdout",
     "output_type": "stream",
     "text": [
      "CARLA 0.9.11 connected at localhost:2000.\n",
      "<carla.libcarla.Client object at 0x0000025E6E12B0B0>\n"
     ]
    }
   ],
   "source": [
    "client = connectToClient()"
   ]
  },
  {
   "cell_type": "code",
   "execution_count": 15,
   "id": "a6be0e6f",
   "metadata": {},
   "outputs": [],
   "source": [
    "world = client.get_world()\n",
    "set_camera_over_intersection(world)"
   ]
  },
  {
   "cell_type": "code",
   "execution_count": 5,
   "id": "f1d86b85",
   "metadata": {},
   "outputs": [],
   "source": [
    "debug = world.debug"
   ]
  },
  {
   "cell_type": "code",
   "execution_count": 16,
   "id": "566d4dd3",
   "metadata": {},
   "outputs": [],
   "source": [
    "location = carla.Location(x=80, y=-133, z= 0)\n",
    "rotation = carla.Rotation(pitch=-90, yaw=95, roll=0)\n",
    "debug = world.debug\n",
    "debug.draw_box(carla.BoundingBox(location, carla.Vector3D(20,50,50)),\n",
    "               rotation, \n",
    "               0.05, \n",
    "               carla.Color(0,0,255,0),\n",
    "               0)"
   ]
  },
  {
   "cell_type": "code",
   "execution_count": null,
   "id": "e0020b18",
   "metadata": {},
   "outputs": [],
   "source": []
  }
 ],
 "metadata": {
  "kernelspec": {
   "display_name": "Python 3",
   "language": "python",
   "name": "python3"
  },
  "language_info": {
   "codemirror_mode": {
    "name": "ipython",
    "version": 3
   },
   "file_extension": ".py",
   "mimetype": "text/x-python",
   "name": "python",
   "nbconvert_exporter": "python",
   "pygments_lexer": "ipython3",
   "version": "3.7.6"
  }
 },
 "nbformat": 4,
 "nbformat_minor": 5
}
